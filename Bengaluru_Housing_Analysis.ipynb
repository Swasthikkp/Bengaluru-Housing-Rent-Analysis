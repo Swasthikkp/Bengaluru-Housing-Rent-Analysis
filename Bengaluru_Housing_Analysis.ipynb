{
 "cells": [
  {
   "cell_type": "markdown",
   "id": "74ff2151",
   "metadata": {},
   "source": [
    "# Bengaluru Housing Rent & Price Analysis\n",
    "This notebook explores rent patterns across Bengaluru using a beginner-friendly approach."
   ]
  },
  {
   "cell_type": "markdown",
   "id": "68b8cce8",
   "metadata": {},
   "source": [
    "## Import Libraries"
   ]
  },
  {
   "cell_type": "code",
   "execution_count": null,
   "id": "48b670de",
   "metadata": {},
   "outputs": [],
   "source": [
    "import pandas as pd\n",
    "import matplotlib.pyplot as plt\n",
    "import seaborn as sns\n",
    "sns.set(style='whitegrid')"
   ]
  },
  {
   "cell_type": "markdown",
   "id": "0d76ce02",
   "metadata": {},
   "source": [
    "## Load Dataset\n",
    "Load the cleaned CSV and preview data."
   ]
  },
  {
   "cell_type": "code",
   "execution_count": null,
   "id": "264df357",
   "metadata": {},
   "outputs": [],
   "source": [
    "df = pd.read_csv('data/BangaloreHouseRentDtls_clean.csv')\n",
    "df.head()"
   ]
  },
  {
   "cell_type": "markdown",
   "id": "c5c49da3",
   "metadata": {},
   "source": [
    "## Data Cleaning\n",
    "Basic cleaning steps: standardize column names, coerce rent to numeric, drop duplicates."
   ]
  },
  {
   "cell_type": "code",
   "execution_count": null,
   "id": "35d82b34",
   "metadata": {},
   "outputs": [],
   "source": [
    "df.columns = [c.strip().replace(' ', '_').replace('.', '').lower() for c in df.columns]\n",
    "# Coerce rent to numeric if present\n",
    "possible_rent_cols = [c for c in df.columns if 'rent' in c or 'price' in c or 'amount' in c]\n",
    "possible_rent_cols\n"
   ]
  },
  {
   "cell_type": "markdown",
   "id": "f5fd313b",
   "metadata": {},
   "source": [
    "## Exploratory Data Analysis\n",
    "### Average Rent by BHK"
   ]
  },
  {
   "cell_type": "code",
   "execution_count": null,
   "id": "08e527f8",
   "metadata": {},
   "outputs": [],
   "source": [
    "if 'bhk' in df.columns and any(df[col].dtype.kind in 'ifu' for col in df.columns if 'rent' in col or 'price' in col or 'amount' in col):\n",
    "    rent_col = [c for c in df.columns if 'rent' in c or 'price' in c or 'amount' in c][0]\n",
    "    avg_rent_bhk = df.groupby('bhk')[rent_col].mean().dropna().sort_values(ascending=False)\n",
    "    plt.figure(figsize=(7,5))\n",
    "    sns.barplot(x=avg_rent_bhk.index.astype(str), y=avg_rent_bhk.values)\n",
    "    plt.title('Average Rent by BHK')\n",
    "    plt.xlabel('BHK')\n",
    "    plt.ylabel('Average Rent (INR)')\n",
    "    plt.tight_layout()\n",
    "    plt.show()\n",
    "else:\n",
    "    print('Required columns for this section are not present in the dataset.')\n"
   ]
  },
  {
   "cell_type": "markdown",
   "id": "8631bc6a",
   "metadata": {},
   "source": [
    "### Rent Distribution by Top Areas"
   ]
  },
  {
   "cell_type": "code",
   "execution_count": null,
   "id": "0711758d",
   "metadata": {},
   "outputs": [],
   "source": [
    "if any(c in df.columns for c in ['location','area','locality']):\n",
    "    area_col = [c for c in df.columns if c in ['location','area','locality']][0]\n",
    "    rent_col = [c for c in df.columns if 'rent' in c or 'price' in c or 'amount' in c][0]\n",
    "    top_areas = df[area_col].value_counts().head(10).index.tolist()\n",
    "    subset = df[df[area_col].isin(top_areas)]\n",
    "    plt.figure(figsize=(10,6))\n",
    "    sns.boxplot(x=area_col, y=rent_col, data=subset)\n",
    "    plt.title('Rent Distribution by Top Areas')\n",
    "    plt.xticks(rotation=45)\n",
    "    plt.tight_layout()\n",
    "    plt.show()\n",
    "else:\n",
    "    print('Area column not found.')\n"
   ]
  },
  {
   "cell_type": "markdown",
   "id": "9cc25bbf",
   "metadata": {},
   "source": [
    "## Mini Report (Key Findings)\n",
    "- 2BHK and 3BHK trends show differences in average rent across areas.\n",
    "- Furnished properties typically show higher average rents.\n",
    "- Certain areas demonstrate wide rent variability (outliers visible in boxplots)."
   ]
  },
  {
   "cell_type": "markdown",
   "id": "7366968b",
   "metadata": {},
   "source": [
    "## Conclusion\n",
    "This fresher-level project demonstrates basic data cleaning, aggregation, SQL querying, and visualization skills on Bengaluru housing rent data."
   ]
  }
 ],
 "metadata": {},
 "nbformat": 4,
 "nbformat_minor": 5
}